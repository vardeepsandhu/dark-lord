{
  "cells": [
    {
      "cell_type": "code",
      "metadata": {
        "tags": [],
        "cell_id": "00000-f7ea7102-d55f-433d-b1c4-9448d1c1aca9",
        "deepnote_to_be_reexecuted": false,
        "source_hash": "256be754",
        "execution_millis": 4396,
        "execution_start": 1618040580976,
        "deepnote_cell_type": "code"
      },
      "source": "import torch \nimport numpy as np\nimport pandas as pd\nimport numpy as np\nimport matplotlib.pyplot as plt\nplt.style.use('fivethirtyeight')\nimport pandas as pd\nfrom sklearn.preprocessing import MinMaxScaler\nfrom keras.models import Sequential\nfrom keras.layers import Dense, LSTM, Dropout, GRU, Bidirectional\nfrom keras.optimizers import SGD\nimport math\nfrom sklearn.metrics import mean_squared_error",
      "execution_count": 1,
      "outputs": []
    },
    {
      "cell_type": "code",
      "metadata": {
        "tags": [],
        "cell_id": "00001-1fb5fac2-f2fb-482e-ba9c-7c55a313e90a",
        "deepnote_to_be_reexecuted": false,
        "source_hash": "c59267b2",
        "execution_millis": 10,
        "execution_start": 1618040585375,
        "deepnote_cell_type": "code"
      },
      "source": "dataset = pd.read_csv(\"IBM.csv\")\n#dataset.head()\n",
      "execution_count": 2,
      "outputs": []
    },
    {
      "cell_type": "code",
      "metadata": {
        "tags": [],
        "cell_id": "00002-711ad69c-8e6d-44fc-8729-c53564910746",
        "deepnote_to_be_reexecuted": false,
        "source_hash": "af6cf651",
        "execution_millis": 4,
        "execution_start": 1618040585388,
        "deepnote_cell_type": "code"
      },
      "source": "total_elements = dataset.shape[0]\ntrainrows = int( total_elements* 0.75)\ntestrows = int( total_elements * 0.25)\ntrainset = dataset.head(n=trainrows).iloc[:, 1:2].values\ntestset = dataset.tail(n=testrows).iloc[:, 1:2].values",
      "execution_count": 3,
      "outputs": []
    },
    {
      "cell_type": "markdown",
      "source": "Now lets scale the data bet 0 and 1",
      "metadata": {
        "tags": [],
        "cell_id": "00005-a473dfcc-98b4-4839-8add-c2303d547fed",
        "deepnote_cell_type": "markdown"
      }
    },
    {
      "cell_type": "code",
      "metadata": {
        "tags": [],
        "cell_id": "00004-86ca384d-143b-42ac-9217-f0694225af13",
        "deepnote_to_be_reexecuted": false,
        "source_hash": "483d94bf",
        "execution_millis": 14,
        "execution_start": 1618040585394,
        "deepnote_cell_type": "code"
      },
      "source": "sc = MinMaxScaler(feature_range=(0,1))\ntraining_set_scaled = sc.fit_transform(trainset)\ntraining_set_scaled.shape",
      "execution_count": 4,
      "outputs": [
        {
          "output_type": "execute_result",
          "execution_count": 4,
          "data": {
            "text/plain": "(189, 1)"
          },
          "metadata": {}
        }
      ]
    },
    {
      "cell_type": "code",
      "metadata": {
        "tags": [],
        "cell_id": "00005-7c02ac6e-f7c6-4731-81ec-788a2ed7feca",
        "deepnote_to_be_reexecuted": false,
        "source_hash": "88a4d3e7",
        "execution_millis": 3,
        "execution_start": 1618040585404,
        "deepnote_cell_type": "code"
      },
      "source": "X_train = []\ny_train = []\nfor i in range(60, trainrows):\n    X_train.append(training_set_scaled[i-60:i,0])\n    y_train.append(training_set_scaled[i,0])\nX_train, y_train = np.array(X_train), np.array(y_train)",
      "execution_count": 5,
      "outputs": []
    },
    {
      "cell_type": "code",
      "metadata": {
        "tags": [],
        "cell_id": "00006-5aa30148-ebec-44e6-8e4f-d364052c59f1",
        "deepnote_to_be_reexecuted": false,
        "source_hash": "7cef2d40",
        "execution_millis": 9,
        "execution_start": 1618040585412,
        "deepnote_cell_type": "code"
      },
      "source": "#Reshaping the X_train (Why????)\nprint(X_train.shape)\nX_train = np.reshape(X_train, (X_train.shape[0], X_train.shape[1], 1))\nprint(X_train.shape)",
      "execution_count": 6,
      "outputs": [
        {
          "name": "stdout",
          "text": "(129, 60)\n(129, 60, 1)\n",
          "output_type": "stream"
        }
      ]
    },
    {
      "cell_type": "code",
      "metadata": {
        "tags": [],
        "cell_id": "00007-b5d8b6d4-91af-4327-91b2-cba77c2e0b39",
        "deepnote_to_be_reexecuted": false,
        "source_hash": "53d4e019",
        "execution_millis": 45526,
        "execution_start": 1618040585476,
        "deepnote_cell_type": "code"
      },
      "source": "#LSTM architechure\n\nregressor = Sequential()\n\nregressor.add(LSTM(units=50, return_sequences=True, input_shape=(X_train.shape[1],1)))\n\nregressor.add(Dropout(0.2))\n\n#2nd layer\nregressor.add(LSTM(units=50, return_sequences=True))\nregressor.add(Dropout(0.2))\n\n#3rd layer\nregressor.add(LSTM(units=50, return_sequences=True))\nregressor.add(Dropout(0.2))\n\n#4th layer\nregressor.add(LSTM(units=50, return_sequences=True))\nregressor.add(Dropout(0.2))\n\n#Output layer\nregressor.add(Dense(units=1))\n\n\n#Compiling RNN\n\nregressor.compile(optimizer='rmsprop', loss='mean_squared_error')\n\n#Fitting to training set\n\nregressor.fit(X_train, y_train, epochs=50, batch_size=32)\n\n\n",
      "execution_count": 7,
      "outputs": [
        {
          "name": "stdout",
          "text": "Epoch 1/50\n5/5 [==============================] - 6s 117ms/step - loss: 0.1614\nEpoch 2/50\n5/5 [==============================] - 1s 116ms/step - loss: 0.0569\nEpoch 3/50\n5/5 [==============================] - 1s 138ms/step - loss: 0.0368\nEpoch 4/50\n5/5 [==============================] - 1s 144ms/step - loss: 0.0299\nEpoch 5/50\n5/5 [==============================] - 1s 188ms/step - loss: 0.0299\nEpoch 6/50\n5/5 [==============================] - 1s 183ms/step - loss: 0.0267\nEpoch 7/50\n5/5 [==============================] - 1s 156ms/step - loss: 0.0198\nEpoch 8/50\n5/5 [==============================] - 1s 155ms/step - loss: 0.0161\nEpoch 9/50\n5/5 [==============================] - 1s 179ms/step - loss: 0.0802\nEpoch 10/50\n5/5 [==============================] - 1s 232ms/step - loss: 0.0152\nEpoch 11/50\n5/5 [==============================] - 1s 170ms/step - loss: 0.0173\nEpoch 12/50\n5/5 [==============================] - 1s 190ms/step - loss: 0.0144\nEpoch 13/50\n5/5 [==============================] - 1s 193ms/step - loss: 0.0141\nEpoch 14/50\n5/5 [==============================] - 1s 171ms/step - loss: 0.0124\nEpoch 15/50\n5/5 [==============================] - 1s 133ms/step - loss: 0.0127\nEpoch 16/50\n5/5 [==============================] - 1s 165ms/step - loss: 0.0137\nEpoch 17/50\n5/5 [==============================] - 1s 174ms/step - loss: 0.0184\nEpoch 18/50\n5/5 [==============================] - 1s 173ms/step - loss: 0.0122\nEpoch 19/50\n5/5 [==============================] - 1s 174ms/step - loss: 0.0150\nEpoch 20/50\n5/5 [==============================] - 1s 170ms/step - loss: 0.0103\nEpoch 21/50\n5/5 [==============================] - 1s 182ms/step - loss: 0.0117\nEpoch 22/50\n5/5 [==============================] - 1s 203ms/step - loss: 0.0133\nEpoch 23/50\n5/5 [==============================] - 1s 186ms/step - loss: 0.0104\nEpoch 24/50\n5/5 [==============================] - 1s 142ms/step - loss: 0.0151\nEpoch 25/50\n5/5 [==============================] - 1s 141ms/step - loss: 0.0091\nEpoch 26/50\n5/5 [==============================] - 1s 142ms/step - loss: 0.0100\nEpoch 27/50\n5/5 [==============================] - 1s 134ms/step - loss: 0.0099\nEpoch 28/50\n5/5 [==============================] - 1s 151ms/step - loss: 0.0119\nEpoch 29/50\n5/5 [==============================] - 1s 130ms/step - loss: 0.0095\nEpoch 30/50\n5/5 [==============================] - 1s 124ms/step - loss: 0.0091\nEpoch 31/50\n5/5 [==============================] - 1s 127ms/step - loss: 0.0090\nEpoch 32/50\n5/5 [==============================] - 1s 128ms/step - loss: 0.0127\nEpoch 33/50\n5/5 [==============================] - 1s 133ms/step - loss: 0.0085\nEpoch 34/50\n5/5 [==============================] - 1s 164ms/step - loss: 0.0093\nEpoch 35/50\n5/5 [==============================] - 1s 159ms/step - loss: 0.0080\nEpoch 36/50\n5/5 [==============================] - 1s 129ms/step - loss: 0.0128\nEpoch 37/50\n5/5 [==============================] - 1s 159ms/step - loss: 0.0076\nEpoch 38/50\n5/5 [==============================] - 1s 116ms/step - loss: 0.0082\nEpoch 39/50\n5/5 [==============================] - 1s 120ms/step - loss: 0.0081\nEpoch 40/50\n5/5 [==============================] - 1s 119ms/step - loss: 0.0078\nEpoch 41/50\n5/5 [==============================] - 1s 117ms/step - loss: 0.0076\nEpoch 42/50\n5/5 [==============================] - 1s 121ms/step - loss: 0.0184\nEpoch 43/50\n5/5 [==============================] - 1s 119ms/step - loss: 0.0089\nEpoch 44/50\n5/5 [==============================] - 1s 120ms/step - loss: 0.0076\nEpoch 45/50\n5/5 [==============================] - 1s 120ms/step - loss: 0.0084\nEpoch 46/50\n5/5 [==============================] - 1s 119ms/step - loss: 0.0090\nEpoch 47/50\n5/5 [==============================] - 1s 113ms/step - loss: 0.0085\nEpoch 48/50\n5/5 [==============================] - 1s 201ms/step - loss: 0.0079\nEpoch 49/50\n5/5 [==============================] - 1s 172ms/step - loss: 0.0077\nEpoch 50/50\n5/5 [==============================] - 1s 155ms/step - loss: 0.0080\n",
          "output_type": "stream"
        },
        {
          "output_type": "execute_result",
          "execution_count": 7,
          "data": {
            "text/plain": "<tensorflow.python.keras.callbacks.History at 0x7f17580c6190>"
          },
          "metadata": {}
        }
      ]
    },
    {
      "cell_type": "code",
      "metadata": {
        "tags": [],
        "cell_id": "00008-b38d9fe5-d9b1-44ff-99df-c1f3ae065aa6",
        "deepnote_to_be_reexecuted": false,
        "source_hash": "78c491a9",
        "execution_millis": 5,
        "execution_start": 1618041571098,
        "deepnote_cell_type": "code"
      },
      "source": "#Getting the testset like the trainig set\ndataset_total = dataset[\"High\"]\ninputs = dataset_total[len(dataset_total) - len(testset) - 60:].values\ninputs = inputs.reshape(-1,1)\ninputs = sc.transform(inputs)",
      "execution_count": 22,
      "outputs": []
    },
    {
      "cell_type": "code",
      "source": "X_test = []\nfor i in range(60,inputs.shape[0]):\n    X_test.append(inputs[i-60:i,0])\nX_test = np.array(X_test)\nX_test = np.reshape(X_test, (X_test.shape[0],X_test.shape[1],1))\npredicted_stock = regressor.predict(X_test)\npredicted_stock = np.reshape(predicted_stock, (predicted_stock.shape[0], predicted_stock.shape[1]))\npredicted_stock = sc.inverse_transform(predicted_stock)",
      "metadata": {
        "tags": [],
        "cell_id": "00009-c9a2d7cc-d38b-4be0-887e-56221b4f7957",
        "deepnote_to_be_reexecuted": false,
        "source_hash": "2ecf7604",
        "execution_millis": 99,
        "execution_start": 1618042450862,
        "deepnote_cell_type": "code"
      },
      "outputs": [],
      "execution_count": 33
    },
    {
      "cell_type": "code",
      "source": "predicted_stock.shape\n\n##There is something wrong with this. Have to spend some brainpower on this",
      "metadata": {
        "tags": [],
        "cell_id": "00010-9d4d86f4-f18f-4edf-9d21-306122d24c74",
        "deepnote_to_be_reexecuted": false,
        "source_hash": "953c9e61",
        "execution_millis": 7,
        "execution_start": 1618042872592,
        "deepnote_cell_type": "code"
      },
      "outputs": [
        {
          "output_type": "execute_result",
          "execution_count": 39,
          "data": {
            "text/plain": "(63, 60)"
          },
          "metadata": {}
        }
      ],
      "execution_count": 39
    },
    {
      "cell_type": "code",
      "source": "",
      "metadata": {
        "tags": [],
        "cell_id": "00011-75ea7478-7bca-468c-874d-9b3b7bc3a3a8",
        "deepnote_cell_type": "code"
      },
      "outputs": [],
      "execution_count": null
    },
    {
      "cell_type": "markdown",
      "source": "<a style='text-decoration:none;line-height:16px;display:flex;color:#5B5B62;padding:10px;justify-content:end;' href='https://deepnote.com?utm_source=created-in-deepnote-cell&projectId=6f0cb4aa-1bc8-4a44-bd28-be65810b27e8' target=\"_blank\">\n<img alt='Created in deepnote.com' style='display:inline;max-height:16px;margin:0px;margin-right:7.5px;' src='data:image/svg+xml;base64,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' > </img>\nCreated in <span style='font-weight:600;margin-left:4px;'>Deepnote</span></a>",
      "metadata": {
        "tags": [],
        "created_in_deepnote_cell": true,
        "deepnote_cell_type": "markdown"
      }
    }
  ],
  "nbformat": 4,
  "nbformat_minor": 2,
  "metadata": {
    "orig_nbformat": 2,
    "deepnote": {
      "is_reactive": false
    },
    "deepnote_notebook_id": "dee201f5-e8cc-4f63-af44-475f2798fdbb",
    "deepnote_execution_queue": []
  }
}